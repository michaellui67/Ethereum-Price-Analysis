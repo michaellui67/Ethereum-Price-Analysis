{
 "cells": [
  {
   "cell_type": "markdown",
   "id": "5a4c9702",
   "metadata": {
    "papermill": {
     "duration": 0.018835,
     "end_time": "2021-12-31T22:25:23.552370",
     "exception": false,
     "start_time": "2021-12-31T22:25:23.533535",
     "status": "completed"
    },
    "tags": []
   },
   "source": [
    "# Step 0: Imports and Reading Data"
   ]
  },
  {
   "cell_type": "code",
   "execution_count": 5,
   "id": "7daf9201",
   "metadata": {
    "_cell_guid": "b1076dfc-b9ad-4769-8c92-a6c4dae69d19",
    "_uuid": "8f2839f25d086af736a60e9eeb907d3b93b6e0e5",
    "execution": {
     "iopub.execute_input": "2021-12-31T22:25:23.602891Z",
     "iopub.status.busy": "2021-12-31T22:25:23.602152Z",
     "iopub.status.idle": "2021-12-31T22:25:24.521531Z",
     "shell.execute_reply": "2021-12-31T22:25:24.520395Z",
     "shell.execute_reply.started": "2021-12-31T18:56:46.354032Z"
    },
    "papermill": {
     "duration": 0.950081,
     "end_time": "2021-12-31T22:25:24.521694",
     "exception": false,
     "start_time": "2021-12-31T22:25:23.571613",
     "status": "completed"
    },
    "tags": []
   },
   "outputs": [],
   "source": [
    "import pandas as pd\n",
    "import numpy as np\n",
    "import matplotlib.pyplot as plt\n",
    "import seaborn as sns\n",
    "plt.style.use('ggplot')"
   ]
  },
  {
   "cell_type": "code",
   "execution_count": 6,
   "id": "2a5739ac",
   "metadata": {
    "execution": {
     "iopub.execute_input": "2021-12-31T22:25:24.564658Z",
     "iopub.status.busy": "2021-12-31T22:25:24.564076Z",
     "iopub.status.idle": "2021-12-31T22:25:24.610337Z",
     "shell.execute_reply": "2021-12-31T22:25:24.610862Z",
     "shell.execute_reply.started": "2021-12-31T18:56:46.639684Z"
    },
    "papermill": {
     "duration": 0.070227,
     "end_time": "2021-12-31T22:25:24.611069",
     "exception": false,
     "start_time": "2021-12-31T22:25:24.540842",
     "status": "completed"
    },
    "tags": []
   },
   "outputs": [],
   "source": [
    "# Data from https://finance.yahoo.com/quote/ETH-USD/history/\n",
    "df = pd.read_csv('ETH-USD.csv')"
   ]
  },
  {
   "cell_type": "markdown",
   "id": "0df2920f",
   "metadata": {
    "papermill": {
     "duration": 0.023547,
     "end_time": "2021-12-31T22:25:24.662163",
     "exception": false,
     "start_time": "2021-12-31T22:25:24.638616",
     "status": "completed"
    },
    "tags": []
   },
   "source": [
    "# Step 1: Data Understanding\n"
   ]
  },
  {
   "cell_type": "code",
   "execution_count": 7,
   "id": "b715dee1",
   "metadata": {
    "execution": {
     "iopub.execute_input": "2021-12-31T22:25:24.761314Z",
     "iopub.status.busy": "2021-12-31T22:25:24.760448Z",
     "iopub.status.idle": "2021-12-31T22:25:24.804716Z",
     "shell.execute_reply": "2021-12-31T22:25:24.805191Z",
     "shell.execute_reply.started": "2021-12-31T18:56:47.613509Z"
    },
    "papermill": {
     "duration": 0.068471,
     "end_time": "2021-12-31T22:25:24.805357",
     "exception": false,
     "start_time": "2021-12-31T22:25:24.736886",
     "status": "completed"
    },
    "tags": []
   },
   "outputs": [
    {
     "data": {
      "text/html": [
       "<div>\n",
       "<style scoped>\n",
       "    .dataframe tbody tr th:only-of-type {\n",
       "        vertical-align: middle;\n",
       "    }\n",
       "\n",
       "    .dataframe tbody tr th {\n",
       "        vertical-align: top;\n",
       "    }\n",
       "\n",
       "    .dataframe thead th {\n",
       "        text-align: right;\n",
       "    }\n",
       "</style>\n",
       "<table border=\"1\" class=\"dataframe\">\n",
       "  <thead>\n",
       "    <tr style=\"text-align: right;\">\n",
       "      <th></th>\n",
       "      <th>Date</th>\n",
       "      <th>Open</th>\n",
       "      <th>High</th>\n",
       "      <th>Low</th>\n",
       "      <th>Close</th>\n",
       "      <th>Adj Close</th>\n",
       "      <th>Volume</th>\n",
       "    </tr>\n",
       "  </thead>\n",
       "  <tbody>\n",
       "    <tr>\n",
       "      <th>0</th>\n",
       "      <td>2017-11-09</td>\n",
       "      <td>308.644989</td>\n",
       "      <td>329.451996</td>\n",
       "      <td>307.056000</td>\n",
       "      <td>320.884003</td>\n",
       "      <td>320.884003</td>\n",
       "      <td>893249984</td>\n",
       "    </tr>\n",
       "    <tr>\n",
       "      <th>1</th>\n",
       "      <td>2017-11-10</td>\n",
       "      <td>320.670990</td>\n",
       "      <td>324.717987</td>\n",
       "      <td>294.541992</td>\n",
       "      <td>299.252991</td>\n",
       "      <td>299.252991</td>\n",
       "      <td>885985984</td>\n",
       "    </tr>\n",
       "    <tr>\n",
       "      <th>2</th>\n",
       "      <td>2017-11-11</td>\n",
       "      <td>298.585999</td>\n",
       "      <td>319.453003</td>\n",
       "      <td>298.191986</td>\n",
       "      <td>314.681000</td>\n",
       "      <td>314.681000</td>\n",
       "      <td>842300992</td>\n",
       "    </tr>\n",
       "    <tr>\n",
       "      <th>3</th>\n",
       "      <td>2017-11-12</td>\n",
       "      <td>314.690002</td>\n",
       "      <td>319.153015</td>\n",
       "      <td>298.513000</td>\n",
       "      <td>307.907990</td>\n",
       "      <td>307.907990</td>\n",
       "      <td>1613479936</td>\n",
       "    </tr>\n",
       "    <tr>\n",
       "      <th>4</th>\n",
       "      <td>2017-11-13</td>\n",
       "      <td>307.024994</td>\n",
       "      <td>328.415009</td>\n",
       "      <td>307.024994</td>\n",
       "      <td>316.716003</td>\n",
       "      <td>316.716003</td>\n",
       "      <td>1041889984</td>\n",
       "    </tr>\n",
       "    <tr>\n",
       "      <th>...</th>\n",
       "      <td>...</td>\n",
       "      <td>...</td>\n",
       "      <td>...</td>\n",
       "      <td>...</td>\n",
       "      <td>...</td>\n",
       "      <td>...</td>\n",
       "      <td>...</td>\n",
       "    </tr>\n",
       "    <tr>\n",
       "      <th>1920</th>\n",
       "      <td>2023-02-11</td>\n",
       "      <td>1514.941895</td>\n",
       "      <td>1541.334717</td>\n",
       "      <td>1510.146973</td>\n",
       "      <td>1539.926758</td>\n",
       "      <td>1539.926758</td>\n",
       "      <td>5064007416</td>\n",
       "    </tr>\n",
       "    <tr>\n",
       "      <th>1921</th>\n",
       "      <td>2023-02-12</td>\n",
       "      <td>1539.776001</td>\n",
       "      <td>1545.554199</td>\n",
       "      <td>1501.462036</td>\n",
       "      <td>1515.033691</td>\n",
       "      <td>1515.033691</td>\n",
       "      <td>5319698775</td>\n",
       "    </tr>\n",
       "    <tr>\n",
       "      <th>1922</th>\n",
       "      <td>2023-02-13</td>\n",
       "      <td>1514.916992</td>\n",
       "      <td>1524.731445</td>\n",
       "      <td>1470.023926</td>\n",
       "      <td>1507.165894</td>\n",
       "      <td>1507.165894</td>\n",
       "      <td>9363855114</td>\n",
       "    </tr>\n",
       "    <tr>\n",
       "      <th>1923</th>\n",
       "      <td>2023-02-14</td>\n",
       "      <td>1506.992065</td>\n",
       "      <td>1562.034302</td>\n",
       "      <td>1497.194458</td>\n",
       "      <td>1556.875122</td>\n",
       "      <td>1556.875122</td>\n",
       "      <td>9249575045</td>\n",
       "    </tr>\n",
       "    <tr>\n",
       "      <th>1924</th>\n",
       "      <td>2023-02-15</td>\n",
       "      <td>1556.765137</td>\n",
       "      <td>1674.289795</td>\n",
       "      <td>1545.689697</td>\n",
       "      <td>1673.745972</td>\n",
       "      <td>1673.745972</td>\n",
       "      <td>10015035156</td>\n",
       "    </tr>\n",
       "  </tbody>\n",
       "</table>\n",
       "<p>1925 rows × 7 columns</p>\n",
       "</div>"
      ],
      "text/plain": [
       "            Date         Open         High          Low        Close  \\\n",
       "0     2017-11-09   308.644989   329.451996   307.056000   320.884003   \n",
       "1     2017-11-10   320.670990   324.717987   294.541992   299.252991   \n",
       "2     2017-11-11   298.585999   319.453003   298.191986   314.681000   \n",
       "3     2017-11-12   314.690002   319.153015   298.513000   307.907990   \n",
       "4     2017-11-13   307.024994   328.415009   307.024994   316.716003   \n",
       "...          ...          ...          ...          ...          ...   \n",
       "1920  2023-02-11  1514.941895  1541.334717  1510.146973  1539.926758   \n",
       "1921  2023-02-12  1539.776001  1545.554199  1501.462036  1515.033691   \n",
       "1922  2023-02-13  1514.916992  1524.731445  1470.023926  1507.165894   \n",
       "1923  2023-02-14  1506.992065  1562.034302  1497.194458  1556.875122   \n",
       "1924  2023-02-15  1556.765137  1674.289795  1545.689697  1673.745972   \n",
       "\n",
       "        Adj Close       Volume  \n",
       "0      320.884003    893249984  \n",
       "1      299.252991    885985984  \n",
       "2      314.681000    842300992  \n",
       "3      307.907990   1613479936  \n",
       "4      316.716003   1041889984  \n",
       "...           ...          ...  \n",
       "1920  1539.926758   5064007416  \n",
       "1921  1515.033691   5319698775  \n",
       "1922  1507.165894   9363855114  \n",
       "1923  1556.875122   9249575045  \n",
       "1924  1673.745972  10015035156  \n",
       "\n",
       "[1925 rows x 7 columns]"
      ]
     },
     "execution_count": 7,
     "metadata": {},
     "output_type": "execute_result"
    }
   ],
   "source": [
    "df # Column name, first 5 and last 5 data, and number of columns and rows"
   ]
  },
  {
   "cell_type": "code",
   "execution_count": 8,
   "id": "1e2c996e",
   "metadata": {
    "execution": {
     "iopub.execute_input": "2021-12-31T22:25:24.898226Z",
     "iopub.status.busy": "2021-12-31T22:25:24.897360Z",
     "iopub.status.idle": "2021-12-31T22:25:24.903993Z",
     "shell.execute_reply": "2021-12-31T22:25:24.904425Z",
     "shell.execute_reply.started": "2021-12-31T18:56:48.283347Z"
    },
    "papermill": {
     "duration": 0.030131,
     "end_time": "2021-12-31T22:25:24.904578",
     "exception": false,
     "start_time": "2021-12-31T22:25:24.874447",
     "status": "completed"
    },
    "tags": []
   },
   "outputs": [
    {
     "data": {
      "text/plain": [
       "Date          object\n",
       "Open         float64\n",
       "High         float64\n",
       "Low          float64\n",
       "Close        float64\n",
       "Adj Close    float64\n",
       "Volume         int64\n",
       "dtype: object"
      ]
     },
     "execution_count": 8,
     "metadata": {},
     "output_type": "execute_result"
    }
   ],
   "source": [
    "# Check data types\n",
    "df.dtypes"
   ]
  },
  {
   "cell_type": "code",
   "execution_count": 9,
   "id": "72643f56",
   "metadata": {
    "execution": {
     "iopub.execute_input": "2021-12-31T22:25:24.949624Z",
     "iopub.status.busy": "2021-12-31T22:25:24.948743Z",
     "iopub.status.idle": "2021-12-31T22:25:24.990587Z",
     "shell.execute_reply": "2021-12-31T22:25:24.991040Z",
     "shell.execute_reply.started": "2021-12-31T18:56:48.648007Z"
    },
    "papermill": {
     "duration": 0.065671,
     "end_time": "2021-12-31T22:25:24.991200",
     "exception": false,
     "start_time": "2021-12-31T22:25:24.925529",
     "status": "completed"
    },
    "tags": []
   },
   "outputs": [
    {
     "data": {
      "text/html": [
       "<div>\n",
       "<style scoped>\n",
       "    .dataframe tbody tr th:only-of-type {\n",
       "        vertical-align: middle;\n",
       "    }\n",
       "\n",
       "    .dataframe tbody tr th {\n",
       "        vertical-align: top;\n",
       "    }\n",
       "\n",
       "    .dataframe thead th {\n",
       "        text-align: right;\n",
       "    }\n",
       "</style>\n",
       "<table border=\"1\" class=\"dataframe\">\n",
       "  <thead>\n",
       "    <tr style=\"text-align: right;\">\n",
       "      <th></th>\n",
       "      <th>Open</th>\n",
       "      <th>High</th>\n",
       "      <th>Low</th>\n",
       "      <th>Close</th>\n",
       "      <th>Adj Close</th>\n",
       "      <th>Volume</th>\n",
       "    </tr>\n",
       "  </thead>\n",
       "  <tbody>\n",
       "    <tr>\n",
       "      <th>count</th>\n",
       "      <td>1925.000000</td>\n",
       "      <td>1925.000000</td>\n",
       "      <td>1925.000000</td>\n",
       "      <td>1925.000000</td>\n",
       "      <td>1925.000000</td>\n",
       "      <td>1.925000e+03</td>\n",
       "    </tr>\n",
       "    <tr>\n",
       "      <th>mean</th>\n",
       "      <td>1138.538680</td>\n",
       "      <td>1174.759638</td>\n",
       "      <td>1097.648668</td>\n",
       "      <td>1139.014275</td>\n",
       "      <td>1139.014275</td>\n",
       "      <td>1.277086e+10</td>\n",
       "    </tr>\n",
       "    <tr>\n",
       "      <th>std</th>\n",
       "      <td>1175.869217</td>\n",
       "      <td>1211.679420</td>\n",
       "      <td>1134.496342</td>\n",
       "      <td>1175.309057</td>\n",
       "      <td>1175.309057</td>\n",
       "      <td>1.069831e+10</td>\n",
       "    </tr>\n",
       "    <tr>\n",
       "      <th>min</th>\n",
       "      <td>84.279694</td>\n",
       "      <td>85.342743</td>\n",
       "      <td>82.829887</td>\n",
       "      <td>84.308296</td>\n",
       "      <td>84.308296</td>\n",
       "      <td>6.217330e+08</td>\n",
       "    </tr>\n",
       "    <tr>\n",
       "      <th>25%</th>\n",
       "      <td>212.553818</td>\n",
       "      <td>218.518051</td>\n",
       "      <td>207.983994</td>\n",
       "      <td>212.533005</td>\n",
       "      <td>212.533005</td>\n",
       "      <td>4.506862e+09</td>\n",
       "    </tr>\n",
       "    <tr>\n",
       "      <th>50%</th>\n",
       "      <td>546.625977</td>\n",
       "      <td>572.263977</td>\n",
       "      <td>519.369019</td>\n",
       "      <td>549.486633</td>\n",
       "      <td>549.486633</td>\n",
       "      <td>1.039687e+10</td>\n",
       "    </tr>\n",
       "    <tr>\n",
       "      <th>75%</th>\n",
       "      <td>1724.635986</td>\n",
       "      <td>1781.409058</td>\n",
       "      <td>1672.908447</td>\n",
       "      <td>1724.922852</td>\n",
       "      <td>1724.922852</td>\n",
       "      <td>1.800171e+10</td>\n",
       "    </tr>\n",
       "    <tr>\n",
       "      <th>max</th>\n",
       "      <td>4810.071289</td>\n",
       "      <td>4891.704590</td>\n",
       "      <td>4718.039063</td>\n",
       "      <td>4812.087402</td>\n",
       "      <td>4812.087402</td>\n",
       "      <td>8.448291e+10</td>\n",
       "    </tr>\n",
       "  </tbody>\n",
       "</table>\n",
       "</div>"
      ],
      "text/plain": [
       "              Open         High          Low        Close    Adj Close  \\\n",
       "count  1925.000000  1925.000000  1925.000000  1925.000000  1925.000000   \n",
       "mean   1138.538680  1174.759638  1097.648668  1139.014275  1139.014275   \n",
       "std    1175.869217  1211.679420  1134.496342  1175.309057  1175.309057   \n",
       "min      84.279694    85.342743    82.829887    84.308296    84.308296   \n",
       "25%     212.553818   218.518051   207.983994   212.533005   212.533005   \n",
       "50%     546.625977   572.263977   519.369019   549.486633   549.486633   \n",
       "75%    1724.635986  1781.409058  1672.908447  1724.922852  1724.922852   \n",
       "max    4810.071289  4891.704590  4718.039063  4812.087402  4812.087402   \n",
       "\n",
       "             Volume  \n",
       "count  1.925000e+03  \n",
       "mean   1.277086e+10  \n",
       "std    1.069831e+10  \n",
       "min    6.217330e+08  \n",
       "25%    4.506862e+09  \n",
       "50%    1.039687e+10  \n",
       "75%    1.800171e+10  \n",
       "max    8.448291e+10  "
      ]
     },
     "execution_count": 9,
     "metadata": {},
     "output_type": "execute_result"
    }
   ],
   "source": [
    "# Check mean, std, min, 1st quartile (25% percentile), median (50% percentile), 3rd quartile (75% percentile), and max\n",
    "df.describe()"
   ]
  },
  {
   "cell_type": "markdown",
   "id": "b1bd6b43",
   "metadata": {
    "papermill": {
     "duration": 0.021459,
     "end_time": "2021-12-31T22:25:25.034364",
     "exception": false,
     "start_time": "2021-12-31T22:25:25.012905",
     "status": "completed"
    },
    "tags": []
   },
   "source": [
    "# Step 2: Data Preparation"
   ]
  },
  {
   "cell_type": "code",
   "execution_count": 10,
   "id": "8538109c",
   "metadata": {
    "execution": {
     "iopub.execute_input": "2021-12-31T22:25:25.090635Z",
     "iopub.status.busy": "2021-12-31T22:25:25.089745Z",
     "iopub.status.idle": "2021-12-31T22:25:25.092705Z",
     "shell.execute_reply": "2021-12-31T22:25:25.093271Z",
     "shell.execute_reply.started": "2021-12-31T19:02:01.357828Z"
    },
    "papermill": {
     "duration": 0.030091,
     "end_time": "2021-12-31T22:25:25.093436",
     "exception": false,
     "start_time": "2021-12-31T22:25:25.063345",
     "status": "completed"
    },
    "tags": []
   },
   "outputs": [],
   "source": [
    "# Dropping Adj Close because as ETH has never been split, Adj Close always have the same value as Close\n",
    "df = df.drop(['Adj Close'], axis=1)"
   ]
  },
  {
   "cell_type": "code",
   "execution_count": 11,
   "id": "dd89ce3e",
   "metadata": {
    "execution": {
     "iopub.execute_input": "2021-12-31T22:25:25.206413Z",
     "iopub.status.busy": "2021-12-31T22:25:25.205522Z",
     "iopub.status.idle": "2021-12-31T22:25:25.208881Z",
     "shell.execute_reply": "2021-12-31T22:25:25.209403Z",
     "shell.execute_reply.started": "2021-12-31T19:03:34.100799Z"
    },
    "papermill": {
     "duration": 0.033051,
     "end_time": "2021-12-31T22:25:25.209555",
     "exception": false,
     "start_time": "2021-12-31T22:25:25.176504",
     "status": "completed"
    },
    "tags": []
   },
   "outputs": [],
   "source": [
    "# Change data type of Date from object to datetime\n",
    "df['Date'] = pd.to_datetime(df['Date'])"
   ]
  },
  {
   "cell_type": "code",
   "execution_count": 12,
   "id": "e068cc2a",
   "metadata": {
    "execution": {
     "iopub.execute_input": "2021-12-31T22:25:25.305008Z",
     "iopub.status.busy": "2021-12-31T22:25:25.304166Z",
     "iopub.status.idle": "2021-12-31T22:25:25.312365Z",
     "shell.execute_reply": "2021-12-31T22:25:25.311825Z",
     "shell.execute_reply.started": "2021-12-31T19:07:47.744749Z"
    },
    "papermill": {
     "duration": 0.03178,
     "end_time": "2021-12-31T22:25:25.312501",
     "exception": false,
     "start_time": "2021-12-31T22:25:25.280721",
     "status": "completed"
    },
    "tags": []
   },
   "outputs": [
    {
     "data": {
      "text/plain": [
       "Date      0\n",
       "Open      0\n",
       "High      0\n",
       "Low       0\n",
       "Close     0\n",
       "Volume    0\n",
       "dtype: int64"
      ]
     },
     "execution_count": 12,
     "metadata": {},
     "output_type": "execute_result"
    }
   ],
   "source": [
    "# Check empty data\n",
    "df.isna().sum()"
   ]
  },
  {
   "cell_type": "markdown",
   "id": "53326621",
   "metadata": {
    "papermill": {
     "duration": 0.022479,
     "end_time": "2021-12-31T22:25:25.653469",
     "exception": false,
     "start_time": "2021-12-31T22:25:25.630990",
     "status": "completed"
    },
    "tags": []
   },
   "source": [
    "# Step 3: Data Analytics and Visualization"
   ]
  },
  {
   "cell_type": "code",
   "execution_count": 13,
   "id": "a5db48c7",
   "metadata": {},
   "outputs": [
    {
     "data": {
      "image/png": "[encoded data removed]",
      "text/plain": [
       "<Figure size 640x480 with 1 Axes>"
      ]
     },
     "metadata": {},
     "output_type": "display_data"
    }
   ],
   "source": [
    "plt.figure()\n",
    "plt.plot('Date','Close',data=df)\n",
    "plt.title('ETH Price History')\n",
    "plt.xlabel('Date')\n",
    "plt.ylabel('Close Price')\n",
    "plt.xticks(rotation=45)\n",
    "plt.show()"
   ]
  },
  {
   "cell_type": "code",
   "execution_count": 14,
   "id": "349edcc7",
   "metadata": {},
   "outputs": [
    {
     "data": {
      "text/html": [
       "<div>\n",
       "<style scoped>\n",
       "    .dataframe tbody tr th:only-of-type {\n",
       "        vertical-align: middle;\n",
       "    }\n",
       "\n",
       "    .dataframe tbody tr th {\n",
       "        vertical-align: top;\n",
       "    }\n",
       "\n",
       "    .dataframe thead th {\n",
       "        text-align: right;\n",
       "    }\n",
       "</style>\n",
       "<table border=\"1\" class=\"dataframe\">\n",
       "  <thead>\n",
       "    <tr style=\"text-align: right;\">\n",
       "      <th></th>\n",
       "      <th>Date</th>\n",
       "      <th>Open</th>\n",
       "      <th>High</th>\n",
       "      <th>Low</th>\n",
       "      <th>Close</th>\n",
       "      <th>Volume</th>\n",
       "      <th>Returns</th>\n",
       "    </tr>\n",
       "  </thead>\n",
       "  <tbody>\n",
       "    <tr>\n",
       "      <th>0</th>\n",
       "      <td>2017-11-09</td>\n",
       "      <td>308.644989</td>\n",
       "      <td>329.451996</td>\n",
       "      <td>307.056000</td>\n",
       "      <td>320.884003</td>\n",
       "      <td>893249984</td>\n",
       "      <td>0.039654</td>\n",
       "    </tr>\n",
       "    <tr>\n",
       "      <th>1</th>\n",
       "      <td>2017-11-10</td>\n",
       "      <td>320.670990</td>\n",
       "      <td>324.717987</td>\n",
       "      <td>294.541992</td>\n",
       "      <td>299.252991</td>\n",
       "      <td>885985984</td>\n",
       "      <td>-0.066791</td>\n",
       "    </tr>\n",
       "    <tr>\n",
       "      <th>2</th>\n",
       "      <td>2017-11-11</td>\n",
       "      <td>298.585999</td>\n",
       "      <td>319.453003</td>\n",
       "      <td>298.191986</td>\n",
       "      <td>314.681000</td>\n",
       "      <td>842300992</td>\n",
       "      <td>0.053904</td>\n",
       "    </tr>\n",
       "    <tr>\n",
       "      <th>3</th>\n",
       "      <td>2017-11-12</td>\n",
       "      <td>314.690002</td>\n",
       "      <td>319.153015</td>\n",
       "      <td>298.513000</td>\n",
       "      <td>307.907990</td>\n",
       "      <td>1613479936</td>\n",
       "      <td>-0.021551</td>\n",
       "    </tr>\n",
       "    <tr>\n",
       "      <th>4</th>\n",
       "      <td>2017-11-13</td>\n",
       "      <td>307.024994</td>\n",
       "      <td>328.415009</td>\n",
       "      <td>307.024994</td>\n",
       "      <td>316.716003</td>\n",
       "      <td>1041889984</td>\n",
       "      <td>0.031564</td>\n",
       "    </tr>\n",
       "    <tr>\n",
       "      <th>...</th>\n",
       "      <td>...</td>\n",
       "      <td>...</td>\n",
       "      <td>...</td>\n",
       "      <td>...</td>\n",
       "      <td>...</td>\n",
       "      <td>...</td>\n",
       "      <td>...</td>\n",
       "    </tr>\n",
       "    <tr>\n",
       "      <th>1920</th>\n",
       "      <td>2023-02-11</td>\n",
       "      <td>1514.941895</td>\n",
       "      <td>1541.334717</td>\n",
       "      <td>1510.146973</td>\n",
       "      <td>1539.926758</td>\n",
       "      <td>5064007416</td>\n",
       "      <td>0.016492</td>\n",
       "    </tr>\n",
       "    <tr>\n",
       "      <th>1921</th>\n",
       "      <td>2023-02-12</td>\n",
       "      <td>1539.776001</td>\n",
       "      <td>1545.554199</td>\n",
       "      <td>1501.462036</td>\n",
       "      <td>1515.033691</td>\n",
       "      <td>5319698775</td>\n",
       "      <td>-0.016069</td>\n",
       "    </tr>\n",
       "    <tr>\n",
       "      <th>1922</th>\n",
       "      <td>2023-02-13</td>\n",
       "      <td>1514.916992</td>\n",
       "      <td>1524.731445</td>\n",
       "      <td>1470.023926</td>\n",
       "      <td>1507.165894</td>\n",
       "      <td>9363855114</td>\n",
       "      <td>-0.005117</td>\n",
       "    </tr>\n",
       "    <tr>\n",
       "      <th>1923</th>\n",
       "      <td>2023-02-14</td>\n",
       "      <td>1506.992065</td>\n",
       "      <td>1562.034302</td>\n",
       "      <td>1497.194458</td>\n",
       "      <td>1556.875122</td>\n",
       "      <td>9249575045</td>\n",
       "      <td>0.033101</td>\n",
       "    </tr>\n",
       "    <tr>\n",
       "      <th>1924</th>\n",
       "      <td>2023-02-15</td>\n",
       "      <td>1556.765137</td>\n",
       "      <td>1674.289795</td>\n",
       "      <td>1545.689697</td>\n",
       "      <td>1673.745972</td>\n",
       "      <td>10015035156</td>\n",
       "      <td>0.075144</td>\n",
       "    </tr>\n",
       "  </tbody>\n",
       "</table>\n",
       "<p>1925 rows × 7 columns</p>\n",
       "</div>"
      ],
      "text/plain": [
       "           Date         Open         High          Low        Close  \\\n",
       "0    2017-11-09   308.644989   329.451996   307.056000   320.884003   \n",
       "1    2017-11-10   320.670990   324.717987   294.541992   299.252991   \n",
       "2    2017-11-11   298.585999   319.453003   298.191986   314.681000   \n",
       "3    2017-11-12   314.690002   319.153015   298.513000   307.907990   \n",
       "4    2017-11-13   307.024994   328.415009   307.024994   316.716003   \n",
       "...         ...          ...          ...          ...          ...   \n",
       "1920 2023-02-11  1514.941895  1541.334717  1510.146973  1539.926758   \n",
       "1921 2023-02-12  1539.776001  1545.554199  1501.462036  1515.033691   \n",
       "1922 2023-02-13  1514.916992  1524.731445  1470.023926  1507.165894   \n",
       "1923 2023-02-14  1506.992065  1562.034302  1497.194458  1556.875122   \n",
       "1924 2023-02-15  1556.765137  1674.289795  1545.689697  1673.745972   \n",
       "\n",
       "           Volume   Returns  \n",
       "0       893249984  0.039654  \n",
       "1       885985984 -0.066791  \n",
       "2       842300992  0.053904  \n",
       "3      1613479936 -0.021551  \n",
       "4      1041889984  0.031564  \n",
       "...           ...       ...  \n",
       "1920   5064007416  0.016492  \n",
       "1921   5319698775 -0.016069  \n",
       "1922   9363855114 -0.005117  \n",
       "1923   9249575045  0.033101  \n",
       "1924  10015035156  0.075144  \n",
       "\n",
       "[1925 rows x 7 columns]"
      ]
     },
     "execution_count": 14,
     "metadata": {},
     "output_type": "execute_result"
    }
   ],
   "source": [
    "df['Returns'] = (df['Close']/df['Open']) - 1  # Returns is the profit/loss when ETH is bought and sold on the same day\n",
    "df"
   ]
  },
  {
   "cell_type": "code",
   "execution_count": 15,
   "id": "ebfa9dc0",
   "metadata": {},
   "outputs": [
    {
     "data": {
      "text/plain": [
       "5.280382212083462"
      ]
     },
     "execution_count": 15,
     "metadata": {},
     "output_type": "execute_result"
    }
   ],
   "source": [
    "df['Returns'].kurtosis() # Positive output means the chance of 'extreme' values are rare, also can be calculated using Z-value"
   ]
  },
  {
   "cell_type": "code",
   "execution_count": 16,
   "id": "0697e935",
   "metadata": {},
   "outputs": [
    {
     "data": {
      "image/png": "[encoded data removed]",
      "text/plain": [
       "<Figure size 640x480 with 1 Axes>"
      ]
     },
     "metadata": {},
     "output_type": "display_data"
    }
   ],
   "source": [
    "df['Returns'].hist()\n",
    "plt.title('ETH Returns Histogram')\n",
    "plt.show()"
   ]
  },
  {
   "cell_type": "code",
   "execution_count": 17,
   "id": "8044bebf",
   "metadata": {},
   "outputs": [
    {
     "data": {
      "text/plain": [
       "4891.70459"
      ]
     },
     "execution_count": 17,
     "metadata": {},
     "output_type": "execute_result"
    }
   ],
   "source": [
    "df['High'].max() # All Time High (ATH)"
   ]
  },
  {
   "cell_type": "code",
   "execution_count": 18,
   "metadata": {},
   "outputs": [
    {
     "data": {
      "text/plain": [
       "1468   2021-11-16\n",
       "Name: Date, dtype: datetime64[ns]"
      ]
     },
     "execution_count": 18,
     "metadata": {},
     "output_type": "execute_result"
    }
   ],
   "source": [
    "# When ETH reach ATH?\n",
    "ath_date = df[df['High'] == df['High'].max()]['Date']\n",
    "ath_date # output: row number   date"
   ]
  },
  {
   "cell_type": "code",
   "execution_count": 32,
   "id": "db9b3d0a",
   "metadata": {},
   "outputs": [
    {
     "data": {
      "image/png": "[encoded data removed]",
      "text/plain": [
       "<Figure size 2000x800 with 1 Axes>"
      ]
     },
     "metadata": {},
     "output_type": "display_data"
    }
   ],
   "source": [
    "df['SMA_10'] = df['Close'].rolling(window=7).mean() # Calculate Simple Moving Average for a week\n",
    "\n",
    "start = pd.to_datetime('2023-02-08')\n",
    "end = pd.to_datetime('2023-02-15')\n",
    "mdf = df[df['Date'].between(start, end)]\n",
    "\n",
    "plt.figure(figsize=(20,8))\n",
    "plt.plot(mdf['Date'], mdf['SMA_10'], label='Moving Average')\n",
    "plt.plot(mdf['Date'], mdf['Close'], label='Close Price')\n",
    "plt.title('Moving Average and Close Price of ETH')\n",
    "plt.legend()\n",
    "plt.ylabel('Price')\n",
    "plt.xlabel('Date')\n",
    "plt.show()"
   ]
  }
 ],
 "metadata": {
  "kernelspec": {
   "display_name": "Python 3",
   "language": "python",
   "name": "python3"
  },
  "language_info": {
   "codemirror_mode": {
    "name": "ipython",
    "version": 3
   },
   "file_extension": ".py",
   "mimetype": "text/x-python",
   "name": "python",
   "nbconvert_exporter": "python",
   "pygments_lexer": "ipython3",
   "version": "3.11.3"
  },
  "papermill": {
   "default_parameters": {},
   "duration": 19.951116,
   "end_time": "2021-12-31T22:25:35.346596",
   "environment_variables": {},
   "exception": null,
   "input_path": "__notebook__.ipynb",
   "output_path": "__notebook__.ipynb",
   "parameters": {},
   "start_time": "2021-12-31T22:25:15.395480",
   "version": "2.3.3"
  }
 },
 "nbformat": 4,
 "nbformat_minor": 5
}
